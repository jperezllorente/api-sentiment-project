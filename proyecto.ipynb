{
 "cells": [
  {
   "cell_type": "code",
   "execution_count": 1,
   "metadata": {},
   "outputs": [],
   "source": [
    "import requests\n",
    "from bs4 import BeautifulSoup\n",
    "import re\n",
    "import pandas as pd\n",
    "import numpy as np\n",
    "import itertools\n",
    "import regex as re\n",
    "import nltk\n",
    "from nltk.sentiment.vader import SentimentIntensityAnalyzer\n",
    "from nltk.tokenize import RegexpTokenizer\n",
    "from nltk.corpus import stopwords\n",
    "from textblob import TextBlob\n",
    "import spacy\n",
    "from spacy import displacy\n",
    "import emoji\n",
    "from pymongo import MongoClient\n",
    "from flask import Flask, request "
   ]
  },
  {
   "cell_type": "markdown",
   "metadata": {},
   "source": [
    "### Mongodb"
   ]
  },
  {
   "cell_type": "code",
   "execution_count": 2,
   "metadata": {},
   "outputs": [],
   "source": [
    "conn = MongoClient(\"localhost:27017\")\n",
    "\n",
    "db = conn.get_database(\"ironhack\")\n",
    "\n",
    "films = db.get_collection(\"film_reviews\")"
   ]
  },
  {
   "cell_type": "markdown",
   "metadata": {},
   "source": [
    "### IMDB"
   ]
  },
  {
   "cell_type": "code",
   "execution_count": 117,
   "metadata": {},
   "outputs": [],
   "source": [
    "def sentimentAnalysis(sentence):\n",
    "    sia = SentimentIntensityAnalyzer()\n",
    "    pol = sia.polarity_scores(sentence)\n",
    "    polarity = pol[\"compound\"]\n",
    "    return polarity\n",
    "\n",
    "\n",
    "def review_sentiment(review_list, df):\n",
    "    \n",
    "    lista = [i for i in review_list]\n",
    "    \n",
    "    sia = SentimentIntensityAnalyzer()\n",
    "    \n",
    "    sentiment = [sentimentAnalysis(i) for i in lista]\n",
    "\n",
    "    df[\"sentiment\"] = sentiment"
   ]
  },
  {
   "cell_type": "markdown",
   "metadata": {},
   "source": [
    "#### Obtener críticas"
   ]
  },
  {
   "cell_type": "code",
   "execution_count": 118,
   "metadata": {},
   "outputs": [],
   "source": [
    "url = 'https://www.imdb.com/title/tt6723592/reviews?ref_=tt_urv'\n",
    "\n",
    "def extract_critics_imdb(url, title):\n",
    "\n",
    "    response = requests.get(url)\n",
    "\n",
    "    soup = BeautifulSoup(response.content)\n",
    "\n",
    "    test = soup.find_all('a', class_ = \"title\")\n",
    "\n",
    "    IMDB = []\n",
    "\n",
    "    for i in test :\n",
    "        \n",
    "        IMDB.append(i.text.strip())\n",
    "        \n",
    "    imdb = pd.DataFrame(IMDB)\n",
    "\n",
    "    imdb['title'] = pd.Series(['Tenet' for x in range(len(imdb.index))])\n",
    "\n",
    "    imdb.columns = [\"review\", \"title\"] \n",
    "\n",
    "    lista = [i for i in imdb.review]\n",
    "    \n",
    "    sia = SentimentIntensityAnalyzer()\n",
    "    \n",
    "    sentiment = [sentimentAnalysis(i) for i in lista]\n",
    "\n",
    "    imdb[\"sentiment\"] = sentiment\n",
    "    \n",
    "    return imdb\n",
    "\n"
   ]
  },
  {
   "cell_type": "code",
   "execution_count": 119,
   "metadata": {},
   "outputs": [],
   "source": [
    "tenet = extract_critics_imdb(url, \"Tenet\")"
   ]
  },
  {
   "cell_type": "markdown",
   "metadata": {},
   "source": [
    "### FILMAFFINITY"
   ]
  },
  {
   "cell_type": "markdown",
   "metadata": {},
   "source": [
    "#### Obtener críticas"
   ]
  },
  {
   "cell_type": "code",
   "execution_count": 159,
   "metadata": {},
   "outputs": [],
   "source": [
    "def extract_critics_fa(url, title):\n",
    "    \n",
    "    '''\n",
    "    This funciton allows us to create a dataframe of the reviews users have made of a certain movie or tv show with just putting\n",
    "    the url of the site and the corresponding title\n",
    "    \n",
    "    No two websites are the same, so it is important to remember that this funciton will only work for the Filmaffinity site, \n",
    "    and only if we enter in the \"Show - more reviews\", which can be found at the end of the first reviews available. Once inside\n",
    "    the site, we copy the url and insert it in the function. \n",
    "    \n",
    "    It is also importan to point out that with this method we will only get a limited number of reviews. In order to get all of\n",
    "    them we would have to use Selenium, which will allow us to interact with the clicks in the website\n",
    "    '''\n",
    "\n",
    "    response = requests.get(url)\n",
    "\n",
    "    soup = BeautifulSoup(response.content)\n",
    "\n",
    "    test = soup.find_all('a', title = \"ver fuente\")\n",
    "\n",
    "    nueva = []\n",
    "\n",
    "    for i in test:\n",
    "\n",
    "        nueva.append(i.text.strip())\n",
    "\n",
    "    FA = [re.sub(r'\\w*\\ó\\w\\:\\s\\★*\\½?\\s\\(\\w*\\s\\w\\)', '', i) for i in nueva]\n",
    "    \n",
    "    fa = pd.DataFrame(FA)\n",
    "    \n",
    "    fa['title'] = pd.Series([title for x in range(len(fa.index))])\n",
    "\n",
    "    fa.columns = [\"review\", \"title\"]\n",
    "\n",
    "    return fa"
   ]
  },
  {
   "cell_type": "code",
   "execution_count": 209,
   "metadata": {},
   "outputs": [],
   "source": [
    "url = 'https://www.filmaffinity.com/es/pro-reviews.php?movie-id=827414'\n",
    "\n",
    "lor = extract_critics_fa(url, \"Vengadores: Infinity War\")"
   ]
  },
  {
   "cell_type": "code",
   "execution_count": 210,
   "metadata": {},
   "outputs": [
    {
     "data": {
      "text/plain": [
       "'Film reviews succesfully added'"
      ]
     },
     "execution_count": 210,
     "metadata": {},
     "output_type": "execute_result"
    }
   ],
   "source": [
    "insert_object(lor.review, \"Vengadores: Infinity War\")"
   ]
  },
  {
   "cell_type": "code",
   "execution_count": 322,
   "metadata": {},
   "outputs": [],
   "source": [
    "imdb.to_csv(r'C:\\Users\\juanp\\Ironhack\\proyectos\\api-sentiment-project\\data\\imdb.csv' , index = False)"
   ]
  },
  {
   "cell_type": "markdown",
   "metadata": {},
   "source": [
    "### DATAFRAME"
   ]
  },
  {
   "cell_type": "code",
   "execution_count": 156,
   "metadata": {},
   "outputs": [],
   "source": [
    "\n",
    "def insert_object(review,title):\n",
    "\n",
    "    '''\n",
    "    This function inserts all the information from the dataframe we created with the previous function as a Mongodb object.\n",
    "    This object will have two field: title (name of the film or show) and reviews (array with all the reviews users have made)\n",
    "    '''\n",
    "    \n",
    "    test = []\n",
    "\n",
    "    test = [i for i in review]\n",
    "    \n",
    "    datos = {'title': title,\n",
    "        'reviews': test}\n",
    "\n",
    "    films.insert_one(datos)\n",
    "    \n",
    "    return \"Film reviews succesfully added\""
   ]
  },
  {
   "cell_type": "code",
   "execution_count": 121,
   "metadata": {},
   "outputs": [
    {
     "data": {
      "text/plain": [
       "'Film reviews succesfully added'"
      ]
     },
     "execution_count": 121,
     "metadata": {},
     "output_type": "execute_result"
    }
   ],
   "source": [
    "insert_object(tenet.review, tenet.sentiment, \"Tenet\")"
   ]
  },
  {
   "cell_type": "markdown",
   "metadata": {},
   "source": [
    "### API  "
   ]
  },
  {
   "cell_type": "markdown",
   "metadata": {},
   "source": [
    "#### URL for getting movie reviews from database"
   ]
  },
  {
   "cell_type": "code",
   "execution_count": 258,
   "metadata": {},
   "outputs": [],
   "source": [
    "url_reviews = \"http://localhost:5000/reviews/\"\n",
    "title = 'Tenet'"
   ]
  },
  {
   "cell_type": "code",
   "execution_count": 259,
   "metadata": {},
   "outputs": [],
   "source": [
    "criticas = requests.get(url_reviews + title).json()"
   ]
  },
  {
   "cell_type": "markdown",
   "metadata": {},
   "source": [
    "#### URL for adding new movie to database"
   ]
  },
  {
   "cell_type": "code",
   "execution_count": 238,
   "metadata": {},
   "outputs": [],
   "source": [
    "url = \"http://localhost:5000/new_review\""
   ]
  },
  {
   "cell_type": "code",
   "execution_count": 252,
   "metadata": {},
   "outputs": [],
   "source": [
    "list = [\"buenas\", \"tardes\"]"
   ]
  },
  {
   "cell_type": "code",
   "execution_count": 253,
   "metadata": {},
   "outputs": [],
   "source": [
    "datos = {'title': \"Hello\", \n",
    "        'reviews': list}"
   ]
  },
  {
   "cell_type": "code",
   "execution_count": 254,
   "metadata": {},
   "outputs": [
    {
     "data": {
      "text/plain": [
       "<Response [200]>"
      ]
     },
     "execution_count": 254,
     "metadata": {},
     "output_type": "execute_result"
    }
   ],
   "source": [
    "requests.post(url, datos)"
   ]
  },
  {
   "cell_type": "markdown",
   "metadata": {},
   "source": [
    "#### URL for updating review of existing movie in database"
   ]
  },
  {
   "cell_type": "markdown",
   "metadata": {},
   "source": [
    "#### URL for getting the sentiment analysis of movie reviews"
   ]
  },
  {
   "cell_type": "code",
   "execution_count": 211,
   "metadata": {},
   "outputs": [],
   "source": [
    "url = \"http://localhost:5000/sentiment/\"\n",
    "title = \"Vengadores: Infinity War\""
   ]
  },
  {
   "cell_type": "code",
   "execution_count": 220,
   "metadata": {},
   "outputs": [
    {
     "data": {
      "text/plain": [
       "['positive = 17.94871794871795%',\n",
       " 'negative = 23.076923076923077%',\n",
       " 'neutral = 58.97435897435898%']"
      ]
     },
     "execution_count": 220,
     "metadata": {},
     "output_type": "execute_result"
    }
   ],
   "source": [
    "requests.get(url + title).json()"
   ]
  },
  {
   "cell_type": "markdown",
   "metadata": {},
   "source": [
    "### Sentiment Analysis"
   ]
  },
  {
   "cell_type": "code",
   "execution_count": 230,
   "metadata": {},
   "outputs": [],
   "source": [
    "def sentimentAnalysis(sentence):\n",
    "    sia = SentimentIntensityAnalyzer()\n",
    "    pol = sia.polarity_scores(sentence)\n",
    "    polarity = pol[\"compound\"]\n",
    "    return polarity\n",
    "\n",
    "\n",
    "def prueba(review_list):\n",
    "    \n",
    "    negative = 0\n",
    "    \n",
    "    positive = 0\n",
    "    \n",
    "    neutral = 0\n",
    "    \n",
    "    lista = [i for i in review_list]\n",
    "    \n",
    "    sentiment = [sentimentAnalysis(i) for i in lista]\n",
    "    \n",
    "    for i in sentiment:\n",
    "        \n",
    "        if i < -0.35:\n",
    "        \n",
    "            negative += 1\n",
    "            \n",
    "        elif i > 0.35:\n",
    "            \n",
    "            positive += 1\n",
    "            \n",
    "        else:\n",
    "            \n",
    "            neutral += 1\n",
    "    \n",
    "    \n",
    "    pos = positive/len(sentiment)*100\n",
    "    \n",
    "    neg = negative/len(sentiment)*100\n",
    "    \n",
    "    neu = neutral/len(sentiment)*100\n",
    "    \n",
    "    \n",
    "    result = [f'{pos}%', f'{neg}%',f'{neu}%']\n",
    "    \n",
    "    return result"
   ]
  },
  {
   "cell_type": "code",
   "execution_count": 236,
   "metadata": {},
   "outputs": [],
   "source": [
    "lista = []\n",
    "\n",
    "\n",
    "for i in r:\n",
    "    \n",
    "    lista.append(sentimentAnalysis(i))"
   ]
  },
  {
   "cell_type": "code",
   "execution_count": null,
   "metadata": {},
   "outputs": [],
   "source": []
  }
 ],
 "metadata": {
  "kernelspec": {
   "display_name": "Python 3",
   "language": "python",
   "name": "python3"
  },
  "language_info": {
   "codemirror_mode": {
    "name": "ipython",
    "version": 3
   },
   "file_extension": ".py",
   "mimetype": "text/x-python",
   "name": "python",
   "nbconvert_exporter": "python",
   "pygments_lexer": "ipython3",
   "version": "3.9.0"
  }
 },
 "nbformat": 4,
 "nbformat_minor": 4
}
